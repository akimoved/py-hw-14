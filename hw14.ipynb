{
 "cells": [
  {
   "cell_type": "markdown",
   "source": [
    "# Homework 14"
   ],
   "metadata": {
    "collapsed": false,
    "pycharm": {
     "name": "#%% md\n"
    }
   }
  },
  {
   "cell_type": "code",
   "execution_count": 17,
   "metadata": {
    "collapsed": true
   },
   "outputs": [],
   "source": [
    "import requests as req\n",
    "import pandas as pd\n",
    "from bs4 import BeautifulSoup"
   ]
  },
  {
   "cell_type": "markdown",
   "source": [
    "## Excercise 1"
   ],
   "metadata": {
    "collapsed": false,
    "pycharm": {
     "name": "#%% md\n"
    }
   }
  },
  {
   "cell_type": "code",
   "execution_count": 29,
   "outputs": [
    {
     "data": {
      "text/plain": "                       date  \\\n0 2021-05-23 15:43:00+00:00   \n0 2021-05-23 15:22:00+00:00   \n\n                                               title  \\\n0  Дайджест интересных материалов для мобильного ...   \n0  Как AutoML помогает создавать модели композитн...   \n\n                                                link  \\\n0  https://habr.com/ru/company/productivity_insid...   \n0   https://habr.com/ru/company/spbifmo/blog/558450/   \n\n                                                text  \n0  На этой неделе у нас новая Google I/O, доступн...  \n0  \\nВ лаборатории моделирования природных систем...  ",
      "text/html": "<div>\n<style scoped>\n    .dataframe tbody tr th:only-of-type {\n        vertical-align: middle;\n    }\n\n    .dataframe tbody tr th {\n        vertical-align: top;\n    }\n\n    .dataframe thead th {\n        text-align: right;\n    }\n</style>\n<table border=\"1\" class=\"dataframe\">\n  <thead>\n    <tr style=\"text-align: right;\">\n      <th></th>\n      <th>date</th>\n      <th>title</th>\n      <th>link</th>\n      <th>text</th>\n    </tr>\n  </thead>\n  <tbody>\n    <tr>\n      <th>0</th>\n      <td>2021-05-23 15:43:00+00:00</td>\n      <td>Дайджест интересных материалов для мобильного ...</td>\n      <td>https://habr.com/ru/company/productivity_insid...</td>\n      <td>На этой неделе у нас новая Google I/O, доступн...</td>\n    </tr>\n    <tr>\n      <th>0</th>\n      <td>2021-05-23 15:22:00+00:00</td>\n      <td>Как AutoML помогает создавать модели композитн...</td>\n      <td>https://habr.com/ru/company/spbifmo/blog/558450/</td>\n      <td>\\nВ лаборатории моделирования природных систем...</td>\n    </tr>\n  </tbody>\n</table>\n</div>"
     },
     "execution_count": 29,
     "metadata": {},
     "output_type": "execute_result"
    }
   ],
   "source": [
    "soup = BeautifulSoup(req.get('https://habr.com/ru/all/').text, 'html.parser')\n",
    "KEYWORDS = ['моделирования', 'дайджест']\n",
    "\n",
    "def make_post_df():\n",
    "\n",
    "    links = []\n",
    "    for post in soup.find_all('article', class_='post post_preview'):\n",
    "        title = post.find('a', class_='post__title_link').text\n",
    "        link = post.find('a', class_='post__title_link').get('href')\n",
    "        text = post.find('div', class_='post__text').text\n",
    "\n",
    "        for keyword in KEYWORDS: # search for text or title to contain desired keywords\n",
    "            if keyword.lower() in title.lower().split( ) or keyword.lower() in text.lower().split( ):\n",
    "                links.append(link)\n",
    "\n",
    "    habr_posts_full = pd.DataFrame()\n",
    "    for link in links:\n",
    "        full_soup = BeautifulSoup(req.get(link).text, 'html.parser')\n",
    "        title = full_soup.find('span', class_='post__title-text').text\n",
    "        date = full_soup.find('span', class_='post__time').get('data-time_published')\n",
    "        text = full_soup.find('div', class_='post__text').text\n",
    "\n",
    "        row = {'date': pd.to_datetime(date), 'title': title, 'link': link, 'text': text}\n",
    "        habr_posts_full = pd.concat([habr_posts_full, pd.DataFrame([row])])\n",
    "\n",
    "    return habr_posts_full\n",
    "\n",
    "make_post_df()"
   ],
   "metadata": {
    "collapsed": false,
    "pycharm": {
     "name": "#%%\n"
    }
   }
  },
  {
   "cell_type": "markdown",
   "source": [
    "## Excercise 2"
   ],
   "metadata": {
    "collapsed": false
   }
  },
  {
   "cell_type": "code",
   "execution_count": 19,
   "outputs": [],
   "source": [
    "import json\n",
    "import time"
   ],
   "metadata": {
    "collapsed": false,
    "pycharm": {
     "name": "#%%\n"
    }
   }
  },
  {
   "cell_type": "code",
   "execution_count": 20,
   "outputs": [],
   "source": [
    "def breach_json(list_=['xxx@yahoo.com']):\n",
    "\n",
    "    URL = 'https://identityprotection.avast.com/v1/web/query/site-breaches/unauthorized-data'\n",
    "    headers_ = {'Host': 'identityprotection.avast.com',\n",
    "        'User-Agent': 'Mozilla/5.0 (Windows NT 10.0; Win64; x64; rv:88.0) Gecko/20100101 Firefox/88.0',\n",
    "        'Accept': 'application/json, text/plain, */*',\n",
    "        'Accept-Language': 'ru-RU,ru;q=0.8,en-US;q=0.5,en;q=0.3',\n",
    "        'Accept-Encoding': 'gzip, deflate, br',\n",
    "        'vaar-header-captcha-response-token': '03AGdBq277VhhdclU5YlLD90uZ185oEgGJVulv_QqyfW2yMP5CJ8KHs2bTfNc0JLnXOQDPK2JqBvYzCNgqC-yqAWIWkEqf2yDR_sdp8pxqsfq7xiC2jIOnRpDgCtmTFPPnPF4741S06CONYxDE44LQ5_lTjECgzqY87Si-NMH1ymJCrp3Lim9AKWhU0hnZgNWZX45d6RWKjQke5NjlISEMA4QzViGGaM-O-pggluEsj6JVPouCYZs0gzyqPXHuodJfaIZczs-PS5BUkqvPC1R7JTVUMVBbz8vJgrDvNDK2T-hPnslghOBWcF8t7_Wv6bKsmvX60h9oN0r4BThm7HHWG4NUny2_dpMmTxnUhYu3_lH9v-3jvu_4C-p64cy0XqFYgbLsnARVmRJq_f2rinDHOADQhL_xslIav5bZS9xqrB9WCoNcxN8FcHxBb4AThYH3Awe30YBF4Yaz',\n",
    "        'Vaar-Header-App-Product': 'hackcheck-web-avast',\n",
    "        'Vaar-Header-App-Product-Name': 'hackcheck-web-avast',\n",
    "        'Vaar-Header-App-Build-Version': '1.0.0',\n",
    "        'Vaar-Version': '0',\n",
    "        'Content-Type': 'application/json;charset=utf-8',\n",
    "        'Content-Length': '43',\n",
    "        'Origin': 'https://www.avast.com',\n",
    "        'Connection': 'keep-alive',\n",
    "        'Referer': 'https://www.avast.com/'}\n",
    "\n",
    "    breaches = []\n",
    "    for email in list_:\n",
    "        payload = json.dumps({\"emailAddresses\": [email]})\n",
    "        check = req.post(URL, headers=headers_, data=payload)\n",
    "        breaches.append(check.json())\n",
    "        time.sleep(3)\n",
    "\n",
    "    return breaches\n",
    "\n",
    "breaches = breach_json()"
   ],
   "metadata": {
    "collapsed": false,
    "pycharm": {
     "name": "#%%\n"
    }
   }
  },
  {
   "cell_type": "code",
   "execution_count": 21,
   "outputs": [
    {
     "data": {
      "text/plain": "                        date                          site  \\\n0  2020-12-10 00:00:00+00:00                     slyck.com   \n0  2020-12-17 00:00:00+00:00  liceojuanramonjimenez.edu.co   \n0  2020-12-10 00:00:00+00:00                    bulapin.cn   \n0  2020-12-10 00:00:00+00:00                  licitatia.ro   \n0  2020-05-14 00:00:00+00:00                    minted.com   \n..                       ...                           ...   \n0  2020-12-10 00:00:00+00:00         heraldicahispana.info   \n0  2020-02-20 00:00:00+00:00            mysteryscience.com   \n0  2020-12-10 00:00:00+00:00              rhodes-ranch.com   \n0  2020-12-10 00:00:00+00:00                65.111.174.158   \n0  2020-12-03 00:00:00+00:00          deepthroatsirens.com   \n\n                                          description  \n0   In November 2020, a collection of over 23,000 ...  \n0   In November 2020, a collection of over 23,000 ...  \n0   In November 2020, a collection of over 23,000 ...  \n0   In November 2020, a collection of over 23,000 ...  \n0   In May 2020, the hacking group “ShinyHunters” ...  \n..                                                ...  \n0   In November 2020, a collection of over 23,000 ...  \n0   In January 2020, the online science education ...  \n0   In November 2020, a collection of over 23,000 ...  \n0   In November 2020, a collection of over 23,000 ...  \n0   In November 2020, a collection of over 23,000 ...  \n\n[133 rows x 3 columns]",
      "text/html": "<div>\n<style scoped>\n    .dataframe tbody tr th:only-of-type {\n        vertical-align: middle;\n    }\n\n    .dataframe tbody tr th {\n        vertical-align: top;\n    }\n\n    .dataframe thead th {\n        text-align: right;\n    }\n</style>\n<table border=\"1\" class=\"dataframe\">\n  <thead>\n    <tr style=\"text-align: right;\">\n      <th></th>\n      <th>date</th>\n      <th>site</th>\n      <th>description</th>\n    </tr>\n  </thead>\n  <tbody>\n    <tr>\n      <th>0</th>\n      <td>2020-12-10 00:00:00+00:00</td>\n      <td>slyck.com</td>\n      <td>In November 2020, a collection of over 23,000 ...</td>\n    </tr>\n    <tr>\n      <th>0</th>\n      <td>2020-12-17 00:00:00+00:00</td>\n      <td>liceojuanramonjimenez.edu.co</td>\n      <td>In November 2020, a collection of over 23,000 ...</td>\n    </tr>\n    <tr>\n      <th>0</th>\n      <td>2020-12-10 00:00:00+00:00</td>\n      <td>bulapin.cn</td>\n      <td>In November 2020, a collection of over 23,000 ...</td>\n    </tr>\n    <tr>\n      <th>0</th>\n      <td>2020-12-10 00:00:00+00:00</td>\n      <td>licitatia.ro</td>\n      <td>In November 2020, a collection of over 23,000 ...</td>\n    </tr>\n    <tr>\n      <th>0</th>\n      <td>2020-05-14 00:00:00+00:00</td>\n      <td>minted.com</td>\n      <td>In May 2020, the hacking group “ShinyHunters” ...</td>\n    </tr>\n    <tr>\n      <th>...</th>\n      <td>...</td>\n      <td>...</td>\n      <td>...</td>\n    </tr>\n    <tr>\n      <th>0</th>\n      <td>2020-12-10 00:00:00+00:00</td>\n      <td>heraldicahispana.info</td>\n      <td>In November 2020, a collection of over 23,000 ...</td>\n    </tr>\n    <tr>\n      <th>0</th>\n      <td>2020-02-20 00:00:00+00:00</td>\n      <td>mysteryscience.com</td>\n      <td>In January 2020, the online science education ...</td>\n    </tr>\n    <tr>\n      <th>0</th>\n      <td>2020-12-10 00:00:00+00:00</td>\n      <td>rhodes-ranch.com</td>\n      <td>In November 2020, a collection of over 23,000 ...</td>\n    </tr>\n    <tr>\n      <th>0</th>\n      <td>2020-12-10 00:00:00+00:00</td>\n      <td>65.111.174.158</td>\n      <td>In November 2020, a collection of over 23,000 ...</td>\n    </tr>\n    <tr>\n      <th>0</th>\n      <td>2020-12-03 00:00:00+00:00</td>\n      <td>deepthroatsirens.com</td>\n      <td>In November 2020, a collection of over 23,000 ...</td>\n    </tr>\n  </tbody>\n</table>\n<p>133 rows × 3 columns</p>\n</div>"
     },
     "execution_count": 21,
     "metadata": {},
     "output_type": "execute_result"
    }
   ],
   "source": [
    "def breach_df(response=breaches):\n",
    "\n",
    "    breach_info_df = pd.DataFrame()\n",
    "    for json_ in response:\n",
    "        if json_ is not None:\n",
    "            for info in json_['breaches'].values():\n",
    "                row = {'date': pd.to_datetime(info['publishDate']), 'site': info['site'], 'description': info['description']}\n",
    "                breach_info_df = pd.concat([breach_info_df, pd.DataFrame([row])])\n",
    "\n",
    "    return breach_info_df\n",
    "\n",
    "breach_df()"
   ],
   "metadata": {
    "collapsed": false,
    "pycharm": {
     "name": "#%%\n"
    }
   }
  },
  {
   "cell_type": "markdown",
   "source": [
    "## Excercise 3"
   ],
   "metadata": {
    "collapsed": false,
    "pycharm": {
     "name": "#%% md\n"
    }
   }
  },
  {
   "cell_type": "code",
   "execution_count": 31,
   "outputs": [
    {
     "data": {
      "text/plain": "                 date                                               text\n0 2021-05-21 22:12:48  Гран-при ФИДЕ среди женщин (FIDE Women's Grand...\n0 2021-05-23 14:31:04  В эти минуты в Гибралтаре проходят партии втор...\n0 2021-05-23 12:00:07  «Анатолию Евгеньевичу Карпову сегодня исполнил...\n0 2021-05-23 10:56:24  23 мая в Гибралтаре проходит второй тур четвёр...\n0 2021-05-23 06:40:00  Владимир Крамник поздравил Анатолия Карпова с ...\n0 2021-05-23 05:30:00  23 мая день рождения отмечает двенадцатый чемп...\n0 2021-05-22 19:30:00  Интервью после первого тура Гран-при ФИДЕ сред...\n0 2021-05-22 19:10:00  Интервью после первого тура Гран-при ФИДЕ сред...\n0 2021-05-22 18:54:11  Интервью после первого тура Гран-при ФИДЕ сред...\n0 2021-05-22 18:46:44  Интервью после первого тура Гран-при ФИДЕ сред...\n0 2021-05-22 18:35:00  Интервью после первого тура Гран-при ФИДЕ сред...\n0 2021-05-22 18:15:00  Интервью после первого тура Гран-при ФИДЕ сред...\n0 2021-05-22 18:01:47  22 мая в Гибралтаре начался четвёртый этап Гра...\n0 2021-05-22 17:45:54  Интервью после первого тура Гран-при ФИДЕ сред...\n0 2021-05-22 17:32:34  Элизабет Петц чёрными обыграла Ирину Бульмагу ...\n0 2021-05-22 17:25:01  Шахматистка из Казахстана Жансая Абдумалик оде...\n0 2021-05-22 17:10:17  Валентина Гунина приехала в Гибралтар всего за...\n0 2021-05-22 16:30:22  Валентина Гунина обыграла Алину Кашлинскую в п...\n0 2021-05-22 16:25:38  Немного атмосферы Гран-при ФИДЕ среди женщин в...\n0 2021-05-22 16:00:21  Нана Дзагнидзе и Екатерина Лагно завершили пар...",
      "text/html": "<div>\n<style scoped>\n    .dataframe tbody tr th:only-of-type {\n        vertical-align: middle;\n    }\n\n    .dataframe tbody tr th {\n        vertical-align: top;\n    }\n\n    .dataframe thead th {\n        text-align: right;\n    }\n</style>\n<table border=\"1\" class=\"dataframe\">\n  <thead>\n    <tr style=\"text-align: right;\">\n      <th></th>\n      <th>date</th>\n      <th>text</th>\n    </tr>\n  </thead>\n  <tbody>\n    <tr>\n      <th>0</th>\n      <td>2021-05-21 22:12:48</td>\n      <td>Гран-при ФИДЕ среди женщин (FIDE Women's Grand...</td>\n    </tr>\n    <tr>\n      <th>0</th>\n      <td>2021-05-23 14:31:04</td>\n      <td>В эти минуты в Гибралтаре проходят партии втор...</td>\n    </tr>\n    <tr>\n      <th>0</th>\n      <td>2021-05-23 12:00:07</td>\n      <td>«Анатолию Евгеньевичу Карпову сегодня исполнил...</td>\n    </tr>\n    <tr>\n      <th>0</th>\n      <td>2021-05-23 10:56:24</td>\n      <td>23 мая в Гибралтаре проходит второй тур четвёр...</td>\n    </tr>\n    <tr>\n      <th>0</th>\n      <td>2021-05-23 06:40:00</td>\n      <td>Владимир Крамник поздравил Анатолия Карпова с ...</td>\n    </tr>\n    <tr>\n      <th>0</th>\n      <td>2021-05-23 05:30:00</td>\n      <td>23 мая день рождения отмечает двенадцатый чемп...</td>\n    </tr>\n    <tr>\n      <th>0</th>\n      <td>2021-05-22 19:30:00</td>\n      <td>Интервью после первого тура Гран-при ФИДЕ сред...</td>\n    </tr>\n    <tr>\n      <th>0</th>\n      <td>2021-05-22 19:10:00</td>\n      <td>Интервью после первого тура Гран-при ФИДЕ сред...</td>\n    </tr>\n    <tr>\n      <th>0</th>\n      <td>2021-05-22 18:54:11</td>\n      <td>Интервью после первого тура Гран-при ФИДЕ сред...</td>\n    </tr>\n    <tr>\n      <th>0</th>\n      <td>2021-05-22 18:46:44</td>\n      <td>Интервью после первого тура Гран-при ФИДЕ сред...</td>\n    </tr>\n    <tr>\n      <th>0</th>\n      <td>2021-05-22 18:35:00</td>\n      <td>Интервью после первого тура Гран-при ФИДЕ сред...</td>\n    </tr>\n    <tr>\n      <th>0</th>\n      <td>2021-05-22 18:15:00</td>\n      <td>Интервью после первого тура Гран-при ФИДЕ сред...</td>\n    </tr>\n    <tr>\n      <th>0</th>\n      <td>2021-05-22 18:01:47</td>\n      <td>22 мая в Гибралтаре начался четвёртый этап Гра...</td>\n    </tr>\n    <tr>\n      <th>0</th>\n      <td>2021-05-22 17:45:54</td>\n      <td>Интервью после первого тура Гран-при ФИДЕ сред...</td>\n    </tr>\n    <tr>\n      <th>0</th>\n      <td>2021-05-22 17:32:34</td>\n      <td>Элизабет Петц чёрными обыграла Ирину Бульмагу ...</td>\n    </tr>\n    <tr>\n      <th>0</th>\n      <td>2021-05-22 17:25:01</td>\n      <td>Шахматистка из Казахстана Жансая Абдумалик оде...</td>\n    </tr>\n    <tr>\n      <th>0</th>\n      <td>2021-05-22 17:10:17</td>\n      <td>Валентина Гунина приехала в Гибралтар всего за...</td>\n    </tr>\n    <tr>\n      <th>0</th>\n      <td>2021-05-22 16:30:22</td>\n      <td>Валентина Гунина обыграла Алину Кашлинскую в п...</td>\n    </tr>\n    <tr>\n      <th>0</th>\n      <td>2021-05-22 16:25:38</td>\n      <td>Немного атмосферы Гран-при ФИДЕ среди женщин в...</td>\n    </tr>\n    <tr>\n      <th>0</th>\n      <td>2021-05-22 16:00:21</td>\n      <td>Нана Дзагнидзе и Екатерина Лагно завершили пар...</td>\n    </tr>\n  </tbody>\n</table>\n</div>"
     },
     "execution_count": 31,
     "metadata": {},
     "output_type": "execute_result"
    }
   ],
   "source": [
    "#TOKEN =\n",
    "GROUP = 'fide'\n",
    "\n",
    "def get_last_posts(group=GROUP):\n",
    "\n",
    "    params = {'access_token': TOKEN,\n",
    "              'domain': group,\n",
    "              'v': 5.21\n",
    "              }\n",
    "\n",
    "    r = req.get('https://api.vk.com/method/wall.get', params=params)\n",
    "\n",
    "    vk_post_df = pd.DataFrame()\n",
    "    for post in r.json()['response']['items']:\n",
    "        row = {'date': pd.to_datetime(post['date'], unit='s'),'text': post['text']}\n",
    "        vk_post_df = pd.concat([vk_post_df, pd.DataFrame([row])])\n",
    "\n",
    "    return vk_post_df\n",
    "\n",
    "get_last_posts()"
   ],
   "metadata": {
    "collapsed": false,
    "pycharm": {
     "name": "#%%\n"
    }
   }
  }
 ],
 "metadata": {
  "kernelspec": {
   "display_name": "Python 3",
   "language": "python",
   "name": "python3"
  },
  "language_info": {
   "codemirror_mode": {
    "name": "ipython",
    "version": 2
   },
   "file_extension": ".py",
   "mimetype": "text/x-python",
   "name": "python",
   "nbconvert_exporter": "python",
   "pygments_lexer": "ipython2",
   "version": "2.7.6"
  }
 },
 "nbformat": 4,
 "nbformat_minor": 0
}