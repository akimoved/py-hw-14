{
 "cells": [
  {
   "cell_type": "markdown",
   "source": [
    "# Homework 14"
   ],
   "metadata": {
    "collapsed": false,
    "pycharm": {
     "name": "#%% md\n"
    }
   }
  },
  {
   "cell_type": "code",
   "execution_count": null,
   "metadata": {
    "collapsed": true
   },
   "outputs": [],
   "source": [
    "import requests as req\n",
    "import pandas as pd\n",
    "from bs4 import BeautifulSoup"
   ]
  },
  {
   "cell_type": "markdown",
   "source": [
    "## Excercise 1"
   ],
   "metadata": {
    "collapsed": false,
    "pycharm": {
     "name": "#%% md\n"
    }
   }
  },
  {
   "cell_type": "code",
   "execution_count": null,
   "outputs": [],
   "source": [
    "soup = BeautifulSoup(req.get('https://habr.com/ru/all/').text, 'html.parser')\n",
    "KEYWORDS = ['автоматизация', 'DevOps']\n",
    "\n",
    "def make_post_df():\n",
    "\n",
    "    links = []\n",
    "    for post in soup.find_all('article', class_='post post_preview'):\n",
    "        title = post.find('a', class_='post__title_link').text\n",
    "        link = post.find('a', class_='post__title_link').get('href')\n",
    "        text = post.find('div', class_='post__text').text\n",
    "\n",
    "        for keyword in KEYWORDS: # search for text or title to contain desired keywords\n",
    "            if keyword in title.split( ) or keyword in text.split( ):\n",
    "                links.append(link)\n",
    "\n",
    "    habr_posts_full = pd.DataFrame()\n",
    "    for link in links:\n",
    "        full_soup = BeautifulSoup(req.get(link).text, 'html.parser')\n",
    "        title = full_soup.find('span', class_='post__title-text').text\n",
    "        date = full_soup.find('span', class_='post__time').get('data-time_published')\n",
    "        text = full_soup.find('div', class_='post__text').text\n",
    "\n",
    "        row = {'date': pd.to_datetime(date), 'title': title, 'link': link, 'text': text}\n",
    "        habr_posts_full = pd.concat([habr_posts_full, pd.DataFrame([row])])\n",
    "\n",
    "    return habr_posts_full\n",
    "\n",
    "make_post_df()"
   ],
   "metadata": {
    "collapsed": false,
    "pycharm": {
     "name": "#%%\n"
    }
   }
  },
  {
   "cell_type": "markdown",
   "source": [
    "## Excercise 2"
   ],
   "metadata": {
    "collapsed": false
   }
  },
  {
   "cell_type": "code",
   "execution_count": null,
   "outputs": [],
   "source": [
    "import json\n",
    "import pprint\n",
    "import time"
   ],
   "metadata": {
    "collapsed": false,
    "pycharm": {
     "name": "#%%\n"
    }
   }
  },
  {
   "cell_type": "code",
   "execution_count": null,
   "outputs": [],
   "source": [
    "def breach_json(list_=['xxx@yahoo.com']):\n",
    "\n",
    "    URL = 'https://identityprotection.avast.com/v1/web/query/site-breaches/unauthorized-data'\n",
    "    headers_ = {'Host': 'identityprotection.avast.com',\n",
    "        'User-Agent': 'Mozilla/5.0 (Windows NT 10.0; Win64; x64; rv:88.0) Gecko/20100101 Firefox/88.0',\n",
    "        'Accept': 'application/json, text/plain, */*',\n",
    "        'Accept-Language': 'ru-RU,ru;q=0.8,en-US;q=0.5,en;q=0.3',\n",
    "        'Accept-Encoding': 'gzip, deflate, br',\n",
    "        'vaar-header-captcha-response-token': '03AGdBq277VhhdclU5YlLD90uZ185oEgGJVulv_QqyfW2yMP5CJ8KHs2bTfNc0JLnXOQDPK2JqBvYzCNgqC-yqAWIWkEqf2yDR_sdp8pxqsfq7xiC2jIOnRpDgCtmTFPPnPF4741S06CONYxDE44LQ5_lTjECgzqY87Si-NMH1ymJCrp3Lim9AKWhU0hnZgNWZX45d6RWKjQke5NjlISEMA4QzViGGaM-O-pggluEsj6JVPouCYZs0gzyqPXHuodJfaIZczs-PS5BUkqvPC1R7JTVUMVBbz8vJgrDvNDK2T-hPnslghOBWcF8t7_Wv6bKsmvX60h9oN0r4BThm7HHWG4NUny2_dpMmTxnUhYu3_lH9v-3jvu_4C-p64cy0XqFYgbLsnARVmRJq_f2rinDHOADQhL_xslIav5bZS9xqrB9WCoNcxN8FcHxBb4AThYH3Awe30YBF4Yaz',\n",
    "        'Vaar-Header-App-Product': 'hackcheck-web-avast',\n",
    "        'Vaar-Header-App-Product-Name': 'hackcheck-web-avast',\n",
    "        'Vaar-Header-App-Build-Version': '1.0.0',\n",
    "        'Vaar-Version': '0',\n",
    "        'Content-Type': 'application/json;charset=utf-8',\n",
    "        'Content-Length': '43',\n",
    "        'Origin': 'https://www.avast.com',\n",
    "        'Connection': 'keep-alive',\n",
    "        'Referer': 'https://www.avast.com/'}\n",
    "\n",
    "    breaches = []\n",
    "    for email in list_:\n",
    "        payload = json.dumps({\"emailAddresses\": [email]})\n",
    "        check = req.post(URL, headers=headers_, data=payload)\n",
    "        breaches.append(check.json())\n",
    "        time.sleep(3)\n",
    "\n",
    "    return breaches\n",
    "\n",
    "breaches = breach_json()"
   ],
   "metadata": {
    "collapsed": false,
    "pycharm": {
     "name": "#%%\n"
    }
   }
  },
  {
   "cell_type": "code",
   "execution_count": 112,
   "outputs": [
    {
     "data": {
      "text/plain": "                        date                          site  \\\n0  2020-12-10 00:00:00+00:00                     slyck.com   \n0  2020-12-17 00:00:00+00:00  liceojuanramonjimenez.edu.co   \n0  2020-12-10 00:00:00+00:00                    bulapin.cn   \n0  2020-12-10 00:00:00+00:00                  licitatia.ro   \n0  2020-05-14 00:00:00+00:00                    minted.com   \n..                       ...                           ...   \n0  2017-01-16 00:00:00+00:00            catchitenglish.com   \n0  2017-10-29 00:00:00+00:00                 jobstreet.com   \n0  2017-05-26 00:00:00+00:00                       leet.cc   \n0  2016-12-05 00:00:00+00:00             classroomcash.org   \n0  2017-03-24 00:00:00+00:00                     youku.com   \n\n                                          description  \n0   In November 2020, a collection of over 23,000 ...  \n0   In November 2020, a collection of over 23,000 ...  \n0   In November 2020, a collection of over 23,000 ...  \n0   In November 2020, a collection of over 23,000 ...  \n0   In May 2020, the hacking group “ShinyHunters” ...  \n..                                                ...  \n0   In September 2016, CatchItEnglish.com was brea...  \n0   Online recruitment site JobStreet was allegedl...  \n0   In February 2016, LEET's user database was all...  \n0   At an unknown date ClassroomCash.org was hacke...  \n0   Youku is a large Chinese video content company...  \n\n[264 rows x 3 columns]",
      "text/html": "<div>\n<style scoped>\n    .dataframe tbody tr th:only-of-type {\n        vertical-align: middle;\n    }\n\n    .dataframe tbody tr th {\n        vertical-align: top;\n    }\n\n    .dataframe thead th {\n        text-align: right;\n    }\n</style>\n<table border=\"1\" class=\"dataframe\">\n  <thead>\n    <tr style=\"text-align: right;\">\n      <th></th>\n      <th>date</th>\n      <th>site</th>\n      <th>description</th>\n    </tr>\n  </thead>\n  <tbody>\n    <tr>\n      <th>0</th>\n      <td>2020-12-10 00:00:00+00:00</td>\n      <td>slyck.com</td>\n      <td>In November 2020, a collection of over 23,000 ...</td>\n    </tr>\n    <tr>\n      <th>0</th>\n      <td>2020-12-17 00:00:00+00:00</td>\n      <td>liceojuanramonjimenez.edu.co</td>\n      <td>In November 2020, a collection of over 23,000 ...</td>\n    </tr>\n    <tr>\n      <th>0</th>\n      <td>2020-12-10 00:00:00+00:00</td>\n      <td>bulapin.cn</td>\n      <td>In November 2020, a collection of over 23,000 ...</td>\n    </tr>\n    <tr>\n      <th>0</th>\n      <td>2020-12-10 00:00:00+00:00</td>\n      <td>licitatia.ro</td>\n      <td>In November 2020, a collection of over 23,000 ...</td>\n    </tr>\n    <tr>\n      <th>0</th>\n      <td>2020-05-14 00:00:00+00:00</td>\n      <td>minted.com</td>\n      <td>In May 2020, the hacking group “ShinyHunters” ...</td>\n    </tr>\n    <tr>\n      <th>...</th>\n      <td>...</td>\n      <td>...</td>\n      <td>...</td>\n    </tr>\n    <tr>\n      <th>0</th>\n      <td>2017-01-16 00:00:00+00:00</td>\n      <td>catchitenglish.com</td>\n      <td>In September 2016, CatchItEnglish.com was brea...</td>\n    </tr>\n    <tr>\n      <th>0</th>\n      <td>2017-10-29 00:00:00+00:00</td>\n      <td>jobstreet.com</td>\n      <td>Online recruitment site JobStreet was allegedl...</td>\n    </tr>\n    <tr>\n      <th>0</th>\n      <td>2017-05-26 00:00:00+00:00</td>\n      <td>leet.cc</td>\n      <td>In February 2016, LEET's user database was all...</td>\n    </tr>\n    <tr>\n      <th>0</th>\n      <td>2016-12-05 00:00:00+00:00</td>\n      <td>classroomcash.org</td>\n      <td>At an unknown date ClassroomCash.org was hacke...</td>\n    </tr>\n    <tr>\n      <th>0</th>\n      <td>2017-03-24 00:00:00+00:00</td>\n      <td>youku.com</td>\n      <td>Youku is a large Chinese video content company...</td>\n    </tr>\n  </tbody>\n</table>\n<p>264 rows × 3 columns</p>\n</div>"
     },
     "execution_count": 112,
     "metadata": {},
     "output_type": "execute_result"
    }
   ],
   "source": [
    "def breach_df(response=breaches):\n",
    "\n",
    "    breach_info_df = pd.DataFrame()\n",
    "    for json_ in response:\n",
    "        if json_ is not None:\n",
    "            for info in json_['breaches'].values():\n",
    "                row = {'date': pd.to_datetime(info['publishDate']), 'site': info['site'], 'description': info['description']}\n",
    "                breach_info_df = pd.concat([breach_info_df, pd.DataFrame([row])])\n",
    "\n",
    "    return breach_info_df\n",
    "\n",
    "breach_df()"
   ],
   "metadata": {
    "collapsed": false,
    "pycharm": {
     "name": "#%%\n"
    }
   }
  },
  {
   "cell_type": "markdown",
   "source": [
    "## Excercise 3"
   ],
   "metadata": {
    "collapsed": false,
    "pycharm": {
     "name": "#%% md\n"
    }
   }
  }
 ],
 "metadata": {
  "kernelspec": {
   "display_name": "Python 3",
   "language": "python",
   "name": "python3"
  },
  "language_info": {
   "codemirror_mode": {
    "name": "ipython",
    "version": 2
   },
   "file_extension": ".py",
   "mimetype": "text/x-python",
   "name": "python",
   "nbconvert_exporter": "python",
   "pygments_lexer": "ipython2",
   "version": "2.7.6"
  }
 },
 "nbformat": 4,
 "nbformat_minor": 0
}